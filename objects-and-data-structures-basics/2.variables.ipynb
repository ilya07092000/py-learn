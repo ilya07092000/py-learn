{
 "cells": [
  {
   "cell_type": "code",
   "execution_count": 1,
   "id": "db9f2711-3730-4ce1-be94-c18c78b0e509",
   "metadata": {},
   "outputs": [],
   "source": [
    "a = 5 # create a variable"
   ]
  },
  {
   "cell_type": "code",
   "execution_count": 2,
   "id": "58c884f6-6b3f-4a7d-ae8a-a1a21d7306fb",
   "metadata": {},
   "outputs": [
    {
     "data": {
      "text/plain": [
       "5"
      ]
     },
     "execution_count": 2,
     "metadata": {},
     "output_type": "execute_result"
    }
   ],
   "source": [
    "a"
   ]
  },
  {
   "cell_type": "code",
   "execution_count": 3,
   "id": "479d3833-11a0-4ef1-8e60-a280f4bfdd56",
   "metadata": {},
   "outputs": [],
   "source": [
    "a = 10 # create a variable"
   ]
  },
  {
   "cell_type": "code",
   "execution_count": 4,
   "id": "7a1644da-a846-4387-aa6f-cf594e14844f",
   "metadata": {},
   "outputs": [
    {
     "data": {
      "text/plain": [
       "10"
      ]
     },
     "execution_count": 4,
     "metadata": {},
     "output_type": "execute_result"
    }
   ],
   "source": [
    "a"
   ]
  },
  {
   "cell_type": "code",
   "execution_count": 5,
   "id": "ff624040-d357-42a6-b533-6d3ad8f46341",
   "metadata": {},
   "outputs": [
    {
     "data": {
      "text/plain": [
       "20"
      ]
     },
     "execution_count": 5,
     "metadata": {},
     "output_type": "execute_result"
    }
   ],
   "source": [
    "a + a"
   ]
  },
  {
   "cell_type": "code",
   "execution_count": 6,
   "id": "a91712bd-2ad8-4cac-a99f-4040b3352c0d",
   "metadata": {},
   "outputs": [],
   "source": [
    "a = a + a"
   ]
  },
  {
   "cell_type": "code",
   "execution_count": 7,
   "id": "63996141-2eca-4056-9ce1-7da12bd3848d",
   "metadata": {},
   "outputs": [
    {
     "data": {
      "text/plain": [
       "20"
      ]
     },
     "execution_count": 7,
     "metadata": {},
     "output_type": "execute_result"
    }
   ],
   "source": [
    "a"
   ]
  },
  {
   "cell_type": "code",
   "execution_count": 8,
   "id": "ec857beb-8ec1-4d9a-b94c-61de14a3d5f6",
   "metadata": {},
   "outputs": [
    {
     "data": {
      "text/plain": [
       "int"
      ]
     },
     "execution_count": 8,
     "metadata": {},
     "output_type": "execute_result"
    }
   ],
   "source": [
    "type(a) # check variable type"
   ]
  },
  {
   "cell_type": "code",
   "execution_count": 9,
   "id": "e13f894e-ac16-495a-aebd-01cb367c5804",
   "metadata": {},
   "outputs": [],
   "source": [
    "myString = \"Ilya\""
   ]
  },
  {
   "cell_type": "code",
   "execution_count": 10,
   "id": "a97e2cc9-645b-4ae9-b089-bdfea4df726b",
   "metadata": {},
   "outputs": [
    {
     "data": {
      "text/plain": [
       "'Ilya'"
      ]
     },
     "execution_count": 10,
     "metadata": {},
     "output_type": "execute_result"
    }
   ],
   "source": [
    "myString"
   ]
  },
  {
   "cell_type": "code",
   "execution_count": 11,
   "id": "f6858575-dad4-4271-abfa-6b1c8b54846a",
   "metadata": {},
   "outputs": [
    {
     "data": {
      "text/plain": [
       "str"
      ]
     },
     "execution_count": 11,
     "metadata": {},
     "output_type": "execute_result"
    }
   ],
   "source": [
    "type(myString)"
   ]
  },
  {
   "cell_type": "code",
   "execution_count": 12,
   "id": "a5f86529-319b-44fb-b512-33a4c01c8233",
   "metadata": {},
   "outputs": [],
   "source": [
    "myFloat = 30.1"
   ]
  },
  {
   "cell_type": "code",
   "execution_count": 13,
   "id": "bca0a8ac-c4e5-479c-b001-4c05788d7ce2",
   "metadata": {},
   "outputs": [
    {
     "data": {
      "text/plain": [
       "30.1"
      ]
     },
     "execution_count": 13,
     "metadata": {},
     "output_type": "execute_result"
    }
   ],
   "source": [
    "myFloat"
   ]
  },
  {
   "cell_type": "code",
   "execution_count": 14,
   "id": "2db5b203-e3d5-4640-835b-8e9783dbeb44",
   "metadata": {},
   "outputs": [
    {
     "data": {
      "text/plain": [
       "float"
      ]
     },
     "execution_count": 14,
     "metadata": {},
     "output_type": "execute_result"
    }
   ],
   "source": [
    "type(myFloat)"
   ]
  }
 ],
 "metadata": {
  "kernelspec": {
   "display_name": "Python 3 (ipykernel)",
   "language": "python",
   "name": "python3"
  },
  "language_info": {
   "codemirror_mode": {
    "name": "ipython",
    "version": 3
   },
   "file_extension": ".py",
   "mimetype": "text/x-python",
   "name": "python",
   "nbconvert_exporter": "python",
   "pygments_lexer": "ipython3",
   "version": "3.12.4"
  }
 },
 "nbformat": 4,
 "nbformat_minor": 5
}
