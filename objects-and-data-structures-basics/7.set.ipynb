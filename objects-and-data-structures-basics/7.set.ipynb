{
 "cells": [
  {
   "cell_type": "markdown",
   "id": "ebcd843f-378c-4c26-8c9b-6275d5b40207",
   "metadata": {},
   "source": [
    "### Sets are used to store multiple items in a single variable.\n",
    "### A set is a collection which is unordered, unchangeable*, and unindexed."
   ]
  },
  {
   "cell_type": "code",
   "execution_count": 2,
   "id": "7da9a1f0-3345-4273-b447-ae03c3f00153",
   "metadata": {},
   "outputs": [],
   "source": [
    "mySet = set()"
   ]
  },
  {
   "cell_type": "code",
   "execution_count": 4,
   "id": "215234fa-2fdf-4e2f-8578-6139da0870e4",
   "metadata": {},
   "outputs": [],
   "source": [
    "mySet.add(1)"
   ]
  },
  {
   "cell_type": "code",
   "execution_count": 6,
   "id": "27309caa-500b-4eef-b54f-320e16d8dfff",
   "metadata": {},
   "outputs": [
    {
     "data": {
      "text/plain": [
       "{1}"
      ]
     },
     "execution_count": 6,
     "metadata": {},
     "output_type": "execute_result"
    }
   ],
   "source": [
    "mySet"
   ]
  },
  {
   "cell_type": "code",
   "execution_count": 8,
   "id": "3aac72f4-09c5-452c-977c-b80af97babc2",
   "metadata": {},
   "outputs": [],
   "source": [
    "mySet.add(2)"
   ]
  },
  {
   "cell_type": "code",
   "execution_count": 10,
   "id": "2a47c4bf-100a-49d7-8b62-f80d582b5db5",
   "metadata": {},
   "outputs": [],
   "source": [
    "mySet.add(2)"
   ]
  },
  {
   "cell_type": "code",
   "execution_count": 12,
   "id": "38d33021-41b2-47ad-bc38-8739b680e6ad",
   "metadata": {},
   "outputs": [
    {
     "data": {
      "text/plain": [
       "{1, 2}"
      ]
     },
     "execution_count": 12,
     "metadata": {},
     "output_type": "execute_result"
    }
   ],
   "source": [
    "mySet"
   ]
  },
  {
   "cell_type": "code",
   "execution_count": null,
   "id": "6d7b6ae2-cb13-4f86-ba44-2df52a04e56c",
   "metadata": {},
   "outputs": [],
   "source": [
    "myList = [1,1,1,1,2,2,2,3,3,3,2,"
   ]
  }
 ],
 "metadata": {
  "kernelspec": {
   "display_name": "Python 3 (ipykernel)",
   "language": "python",
   "name": "python3"
  },
  "language_info": {
   "codemirror_mode": {
    "name": "ipython",
    "version": 3
   },
   "file_extension": ".py",
   "mimetype": "text/x-python",
   "name": "python",
   "nbconvert_exporter": "python",
   "pygments_lexer": "ipython3",
   "version": "3.12.4"
  }
 },
 "nbformat": 4,
 "nbformat_minor": 5
}
