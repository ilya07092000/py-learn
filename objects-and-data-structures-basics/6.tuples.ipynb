{
 "cells": [
  {
   "cell_type": "markdown",
   "id": "97ece048-0b52-47de-bc09-007feb08b540",
   "metadata": {},
   "source": [
    "#### Tuples are similar to lists. However they are immutable"
   ]
  },
  {
   "cell_type": "code",
   "execution_count": 5,
   "id": "ad1a25fb-0f21-4c96-bc28-b5b1f4ef0a28",
   "metadata": {},
   "outputs": [],
   "source": [
    "myTuple = (1, 2, 3)"
   ]
  },
  {
   "cell_type": "code",
   "execution_count": 9,
   "id": "2559cfda-8666-4ecd-b4c3-c44a54a86789",
   "metadata": {},
   "outputs": [
    {
     "data": {
      "text/plain": [
       "(1, 2, 3)"
      ]
     },
     "execution_count": 9,
     "metadata": {},
     "output_type": "execute_result"
    }
   ],
   "source": [
    "myTuple"
   ]
  },
  {
   "cell_type": "code",
   "execution_count": 11,
   "id": "3ca7e7bd-4cb9-4a52-9906-d1817de84801",
   "metadata": {},
   "outputs": [],
   "source": [
    "myList = [1, 2, 3]"
   ]
  },
  {
   "cell_type": "code",
   "execution_count": 13,
   "id": "bde3e294-6b66-4073-9e62-8d46b834b946",
   "metadata": {},
   "outputs": [
    {
     "data": {
      "text/plain": [
       "[1, 2, 3]"
      ]
     },
     "execution_count": 13,
     "metadata": {},
     "output_type": "execute_result"
    }
   ],
   "source": [
    "myList"
   ]
  },
  {
   "cell_type": "code",
   "execution_count": 17,
   "id": "23649810-ce38-41ca-8fe2-58ea40ebb514",
   "metadata": {},
   "outputs": [
    {
     "data": {
      "text/plain": [
       "1"
      ]
     },
     "execution_count": 17,
     "metadata": {},
     "output_type": "execute_result"
    }
   ],
   "source": [
    "myTuple[0]"
   ]
  },
  {
   "cell_type": "code",
   "execution_count": 21,
   "id": "142702a8-2f5d-4223-85cc-3f31bfda7209",
   "metadata": {},
   "outputs": [
    {
     "data": {
      "text/plain": [
       "1"
      ]
     },
     "execution_count": 21,
     "metadata": {},
     "output_type": "execute_result"
    }
   ],
   "source": [
    "myTuple.count(2)"
   ]
  },
  {
   "cell_type": "code",
   "execution_count": 25,
   "id": "b392ab3f-f229-4f84-bb90-c4eebb327888",
   "metadata": {},
   "outputs": [
    {
     "data": {
      "text/plain": [
       "2"
      ]
     },
     "execution_count": 25,
     "metadata": {},
     "output_type": "execute_result"
    }
   ],
   "source": [
    "myTuple.index(3)"
   ]
  },
  {
   "cell_type": "code",
   "execution_count": 27,
   "id": "ff499d26-be43-4864-8c1d-b57b7154f4da",
   "metadata": {},
   "outputs": [
    {
     "data": {
      "text/plain": [
       "[1, 2, 3]"
      ]
     },
     "execution_count": 27,
     "metadata": {},
     "output_type": "execute_result"
    }
   ],
   "source": [
    "list(myTuple)"
   ]
  },
  {
   "cell_type": "code",
   "execution_count": 31,
   "id": "898ae4a1-0454-4e1a-9de8-9a3e094ce88e",
   "metadata": {},
   "outputs": [],
   "source": [
    "# myTuple[0] = 123 # error: 'tuple' object does not support item assignment"
   ]
  },
  {
   "cell_type": "code",
   "execution_count": null,
   "id": "7a808425-e408-4bc7-a146-46969ce96515",
   "metadata": {},
   "outputs": [],
   "source": []
  }
 ],
 "metadata": {
  "kernelspec": {
   "display_name": "Python 3 (ipykernel)",
   "language": "python",
   "name": "python3"
  },
  "language_info": {
   "codemirror_mode": {
    "name": "ipython",
    "version": 3
   },
   "file_extension": ".py",
   "mimetype": "text/x-python",
   "name": "python",
   "nbconvert_exporter": "python",
   "pygments_lexer": "ipython3",
   "version": "3.12.4"
  }
 },
 "nbformat": 4,
 "nbformat_minor": 5
}
