{
 "cells": [
  {
   "cell_type": "code",
   "execution_count": 1,
   "id": "fa69a6ef-dd52-4172-b34e-73af4ae84209",
   "metadata": {},
   "outputs": [],
   "source": [
    "myDict = {\"name\": \"Ilya\", \"age\": 22}"
   ]
  },
  {
   "cell_type": "code",
   "execution_count": 2,
   "id": "945fc34e-8295-4018-b329-7aee7e046679",
   "metadata": {},
   "outputs": [
    {
     "data": {
      "text/plain": [
       "{'name': 'Ilya', 'age': 22}"
      ]
     },
     "execution_count": 2,
     "metadata": {},
     "output_type": "execute_result"
    }
   ],
   "source": [
    "myDict"
   ]
  },
  {
   "cell_type": "code",
   "execution_count": 3,
   "id": "16c86d77-fbd8-4eb4-8b31-6772a5400f75",
   "metadata": {},
   "outputs": [
    {
     "data": {
      "text/plain": [
       "'Ilya'"
      ]
     },
     "execution_count": 3,
     "metadata": {},
     "output_type": "execute_result"
    }
   ],
   "source": [
    "myDict[\"name\"]"
   ]
  },
  {
   "cell_type": "code",
   "execution_count": 4,
   "id": "c7a5e7e0-373b-4a68-beda-2181acacecbe",
   "metadata": {},
   "outputs": [
    {
     "data": {
      "text/plain": [
       "dict_items([('name', 'Ilya'), ('age', 22)])"
      ]
     },
     "execution_count": 4,
     "metadata": {},
     "output_type": "execute_result"
    }
   ],
   "source": [
    "myDict.items()"
   ]
  },
  {
   "cell_type": "code",
   "execution_count": 5,
   "id": "8e45eacd-685d-4c65-b67c-ac0f1206d1d1",
   "metadata": {},
   "outputs": [
    {
     "data": {
      "text/plain": [
       "dict_values(['Ilya', 22])"
      ]
     },
     "execution_count": 5,
     "metadata": {},
     "output_type": "execute_result"
    }
   ],
   "source": [
    "myDict.values()"
   ]
  },
  {
   "cell_type": "code",
   "execution_count": 6,
   "id": "49c12dde-d748-43bb-8e72-5b772298ceab",
   "metadata": {},
   "outputs": [
    {
     "data": {
      "text/plain": [
       "dict_keys(['name', 'age'])"
      ]
     },
     "execution_count": 6,
     "metadata": {},
     "output_type": "execute_result"
    }
   ],
   "source": [
    "myDict.keys()"
   ]
  },
  {
   "cell_type": "code",
   "execution_count": 7,
   "id": "367c9da6-d5be-460d-87d9-92f5d6826f0f",
   "metadata": {},
   "outputs": [
    {
     "data": {
      "text/plain": [
       "dict_items"
      ]
     },
     "execution_count": 7,
     "metadata": {},
     "output_type": "execute_result"
    }
   ],
   "source": [
    "type(myDict.items())"
   ]
  },
  {
   "cell_type": "code",
   "execution_count": 8,
   "id": "8f104792-2f2e-4442-93e9-1b324c9c2d0c",
   "metadata": {},
   "outputs": [
    {
     "data": {
      "text/plain": [
       "{'name': 'Ilya', 'age': 22}"
      ]
     },
     "execution_count": 8,
     "metadata": {},
     "output_type": "execute_result"
    }
   ],
   "source": [
    "myDict"
   ]
  },
  {
   "cell_type": "code",
   "execution_count": 9,
   "id": "46d12972-7582-4565-863d-af7942e3c51c",
   "metadata": {},
   "outputs": [
    {
     "data": {
      "text/plain": [
       "'Ilya'"
      ]
     },
     "execution_count": 9,
     "metadata": {},
     "output_type": "execute_result"
    }
   ],
   "source": [
    "myDict.pop('name')"
   ]
  },
  {
   "cell_type": "code",
   "execution_count": 10,
   "id": "080ae925-6407-4f52-9561-231c9a702e7a",
   "metadata": {},
   "outputs": [
    {
     "data": {
      "text/plain": [
       "{'age': 22}"
      ]
     },
     "execution_count": 10,
     "metadata": {},
     "output_type": "execute_result"
    }
   ],
   "source": [
    "myDict"
   ]
  },
  {
   "cell_type": "code",
   "execution_count": 11,
   "id": "a05ae3bb-788a-4fb7-85bb-25d0181c3c36",
   "metadata": {},
   "outputs": [],
   "source": [
    "del myDict[\"age\"]"
   ]
  },
  {
   "cell_type": "code",
   "execution_count": 12,
   "id": "b72e9a4c-907b-4f5d-a809-3469f1e00f2e",
   "metadata": {},
   "outputs": [
    {
     "data": {
      "text/plain": [
       "{}"
      ]
     },
     "execution_count": 12,
     "metadata": {},
     "output_type": "execute_result"
    }
   ],
   "source": [
    "myDict"
   ]
  },
  {
   "cell_type": "code",
   "execution_count": 13,
   "id": "55486955-8e92-45cf-9ea7-646cd002c0d8",
   "metadata": {},
   "outputs": [],
   "source": [
    "myDict[\"test\"] = 123"
   ]
  },
  {
   "cell_type": "code",
   "execution_count": 14,
   "id": "9388b3d8-0cb0-4327-9be2-7dbcd9dc6c9f",
   "metadata": {},
   "outputs": [
    {
     "data": {
      "text/plain": [
       "{'test': 123}"
      ]
     },
     "execution_count": 14,
     "metadata": {},
     "output_type": "execute_result"
    }
   ],
   "source": [
    "myDict"
   ]
  },
  {
   "cell_type": "code",
   "execution_count": 15,
   "id": "bb47cd80-8b10-486e-9615-8d573e3871a9",
   "metadata": {},
   "outputs": [
    {
     "data": {
      "text/plain": [
       "('test', 123)"
      ]
     },
     "execution_count": 15,
     "metadata": {},
     "output_type": "execute_result"
    }
   ],
   "source": [
    "myDict.popitem()"
   ]
  },
  {
   "cell_type": "code",
   "execution_count": 32,
   "id": "692c5e5e-aa7f-46c8-ac08-2b671bf94fe1",
   "metadata": {},
   "outputs": [
    {
     "data": {
      "text/plain": [
       "0"
      ]
     },
     "execution_count": 32,
     "metadata": {},
     "output_type": "execute_result"
    }
   ],
   "source": [
    "len(myDict)"
   ]
  },
  {
   "cell_type": "code",
   "execution_count": null,
   "id": "45e99915-235b-4133-a77c-9a9b111957ec",
   "metadata": {},
   "outputs": [],
   "source": []
  }
 ],
 "metadata": {
  "kernelspec": {
   "display_name": "Python 3 (ipykernel)",
   "language": "python",
   "name": "python3"
  },
  "language_info": {
   "codemirror_mode": {
    "name": "ipython",
    "version": 3
   },
   "file_extension": ".py",
   "mimetype": "text/x-python",
   "name": "python",
   "nbconvert_exporter": "python",
   "pygments_lexer": "ipython3",
   "version": "3.12.4"
  }
 },
 "nbformat": 4,
 "nbformat_minor": 5
}
