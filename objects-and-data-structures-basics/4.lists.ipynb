{
 "cells": [
  {
   "cell_type": "code",
   "execution_count": 1,
   "id": "16327c03-3e1c-4018-b632-4376147f3163",
   "metadata": {},
   "outputs": [],
   "source": [
    "myList = [1, 2, 3]"
   ]
  },
  {
   "cell_type": "code",
   "execution_count": 2,
   "id": "fa2a980f-87e2-4e99-ba42-30a779aace57",
   "metadata": {},
   "outputs": [
    {
     "data": {
      "text/plain": [
       "[1, 2, 3]"
      ]
     },
     "execution_count": 2,
     "metadata": {},
     "output_type": "execute_result"
    }
   ],
   "source": [
    "myList"
   ]
  },
  {
   "cell_type": "code",
   "execution_count": 3,
   "id": "68d66ac2-9a91-4709-99e2-65ebff47d4d2",
   "metadata": {},
   "outputs": [],
   "source": [
    "testList = ['string', 11, 1.2]"
   ]
  },
  {
   "cell_type": "code",
   "execution_count": 4,
   "id": "e92451fb-4129-440a-a4b4-7b6322de323d",
   "metadata": {},
   "outputs": [
    {
     "data": {
      "text/plain": [
       "['string', 11, 1.2]"
      ]
     },
     "execution_count": 4,
     "metadata": {},
     "output_type": "execute_result"
    }
   ],
   "source": [
    "testList"
   ]
  },
  {
   "cell_type": "code",
   "execution_count": 5,
   "id": "f6668bd7-48d6-474b-b591-8b7cde0a37b3",
   "metadata": {},
   "outputs": [
    {
     "data": {
      "text/plain": [
       "3"
      ]
     },
     "execution_count": 5,
     "metadata": {},
     "output_type": "execute_result"
    }
   ],
   "source": [
    "len(testList)"
   ]
  },
  {
   "cell_type": "code",
   "execution_count": 6,
   "id": "0a1b8b3b-de5c-49a1-aa85-0af2aedc47a1",
   "metadata": {},
   "outputs": [
    {
     "data": {
      "text/plain": [
       "[11, 1.2]"
      ]
     },
     "execution_count": 6,
     "metadata": {},
     "output_type": "execute_result"
    }
   ],
   "source": [
    "testList[1:]"
   ]
  },
  {
   "cell_type": "code",
   "execution_count": 7,
   "id": "dc664021-ffc8-4632-bb21-865b465a318f",
   "metadata": {},
   "outputs": [
    {
     "data": {
      "text/plain": [
       "[1, 2, 3, 'string', 11, 1.2]"
      ]
     },
     "execution_count": 7,
     "metadata": {},
     "output_type": "execute_result"
    }
   ],
   "source": [
    "myList + testList # concatenation"
   ]
  },
  {
   "cell_type": "code",
   "execution_count": 8,
   "id": "8eaf35a9-51e5-4227-9e38-491259998943",
   "metadata": {},
   "outputs": [],
   "source": [
    "myList.append(4) # push"
   ]
  },
  {
   "cell_type": "code",
   "execution_count": 9,
   "id": "9c2f97f8-9ce2-48d2-a2a4-4bd38e334975",
   "metadata": {},
   "outputs": [
    {
     "data": {
      "text/plain": [
       "[1, 2, 3, 4]"
      ]
     },
     "execution_count": 9,
     "metadata": {},
     "output_type": "execute_result"
    }
   ],
   "source": [
    "myList"
   ]
  },
  {
   "cell_type": "code",
   "execution_count": 10,
   "id": "77fd19cf-bd9a-49cd-974a-34efb2e0df58",
   "metadata": {},
   "outputs": [],
   "source": [
    "myList.insert(0, 10) # insert(index, el)"
   ]
  },
  {
   "cell_type": "code",
   "execution_count": 11,
   "id": "09cdfbe2-2ffc-49f4-92a7-a9786a02f200",
   "metadata": {},
   "outputs": [
    {
     "data": {
      "text/plain": [
       "[10, 1, 2, 3, 4]"
      ]
     },
     "execution_count": 11,
     "metadata": {},
     "output_type": "execute_result"
    }
   ],
   "source": [
    "myList"
   ]
  },
  {
   "cell_type": "code",
   "execution_count": 12,
   "id": "9867538f-517b-4989-b57e-aab5c4d2db52",
   "metadata": {},
   "outputs": [
    {
     "data": {
      "text/plain": [
       "4"
      ]
     },
     "execution_count": 12,
     "metadata": {},
     "output_type": "execute_result"
    }
   ],
   "source": [
    "myList.pop()"
   ]
  },
  {
   "cell_type": "code",
   "execution_count": 13,
   "id": "2baaf1a3-4827-4fc4-90e2-449102957811",
   "metadata": {},
   "outputs": [
    {
     "data": {
      "text/plain": [
       "[10, 1, 2, 3]"
      ]
     },
     "execution_count": 13,
     "metadata": {},
     "output_type": "execute_result"
    }
   ],
   "source": [
    "myList"
   ]
  },
  {
   "cell_type": "code",
   "execution_count": 14,
   "id": "45ad2b2e-0422-451a-b663-a4f6df348388",
   "metadata": {},
   "outputs": [],
   "source": [
    "myList.remove(2) # removes given element from the list"
   ]
  },
  {
   "cell_type": "code",
   "execution_count": 15,
   "id": "1dec6b24-5066-49a8-8bb9-496a6b1dca38",
   "metadata": {},
   "outputs": [
    {
     "data": {
      "text/plain": [
       "[10, 1, 3]"
      ]
     },
     "execution_count": 15,
     "metadata": {},
     "output_type": "execute_result"
    }
   ],
   "source": [
    "myList"
   ]
  },
  {
   "cell_type": "code",
   "execution_count": 34,
   "id": "31bcf150-a230-4eb8-8351-ca90b4191a17",
   "metadata": {},
   "outputs": [
    {
     "data": {
      "text/plain": [
       "[10, 1, 3]"
      ]
     },
     "execution_count": 34,
     "metadata": {},
     "output_type": "execute_result"
    }
   ],
   "source": [
    "myList.copy() # returns a shallow copy of the list"
   ]
  },
  {
   "cell_type": "code",
   "execution_count": 37,
   "id": "b61b20a9-5991-40f2-ba09-c41e58e72c59",
   "metadata": {},
   "outputs": [],
   "source": [
    "myList.extend([1, 'ggg', 'fff']) # adds each element of an iterable to the end of the List"
   ]
  },
  {
   "cell_type": "code",
   "execution_count": 39,
   "id": "49a91ecf-6775-4112-8e47-b4e474c60803",
   "metadata": {},
   "outputs": [
    {
     "data": {
      "text/plain": [
       "[10, 1, 3, 1, 'ggg', 'fff']"
      ]
     },
     "execution_count": 39,
     "metadata": {},
     "output_type": "execute_result"
    }
   ],
   "source": [
    "myList"
   ]
  },
  {
   "cell_type": "code",
   "execution_count": 45,
   "id": "89cb2cb5-09ff-4fa3-bce9-1f13c6d38bc3",
   "metadata": {},
   "outputs": [
    {
     "data": {
      "text/plain": [
       "4"
      ]
     },
     "execution_count": 45,
     "metadata": {},
     "output_type": "execute_result"
    }
   ],
   "source": [
    "myList.index('ggg') # get index of desired element"
   ]
  },
  {
   "cell_type": "markdown",
   "id": "673424d9-8d10-46dd-8dc7-b5ab295237e5",
   "metadata": {},
   "source": [
    "### Sorting"
   ]
  },
  {
   "cell_type": "code",
   "execution_count": 66,
   "id": "49c2f84d-40c2-47d7-89c8-e8a2f0978783",
   "metadata": {},
   "outputs": [],
   "source": [
    "users = [\n",
    "    {'name': 'Ilya', 'age': 22},\n",
    "    {'name': 'Vadim', 'age': 30},\n",
    "    {'name': 'Misha', 'age': 27},\n",
    "    {'name': 'Daria', 'age': 19},\n",
    "    {'name': 'Valentin', 'age': 54},\n",
    "]"
   ]
  },
  {
   "cell_type": "code",
   "execution_count": 68,
   "id": "0e3f74c5-bed8-401e-8000-6424a06709c0",
   "metadata": {},
   "outputs": [
    {
     "data": {
      "text/plain": [
       "[{'name': 'Ilya', 'age': 22},\n",
       " {'name': 'Vadim', 'age': 30},\n",
       " {'name': 'Misha', 'age': 27},\n",
       " {'name': 'Daria', 'age': 19},\n",
       " {'name': 'Valentin', 'age': 54}]"
      ]
     },
     "execution_count": 68,
     "metadata": {},
     "output_type": "execute_result"
    }
   ],
   "source": [
    "users"
   ]
  },
  {
   "cell_type": "code",
   "execution_count": 115,
   "id": "25e8e505-e90f-46f8-9aea-3564b457591d",
   "metadata": {},
   "outputs": [],
   "source": [
    "def mySortingKey(obj):\n",
    "    return obj['age']\n",
    "    "
   ]
  },
  {
   "cell_type": "code",
   "execution_count": 117,
   "id": "a4808a17-0e09-4e66-94a2-ead9ee8a759b",
   "metadata": {},
   "outputs": [],
   "source": [
    "usersCopy = users.copy() # sort mutates an array"
   ]
  },
  {
   "cell_type": "code",
   "execution_count": 119,
   "id": "84850f2b-dedc-4efa-9957-238dbdd3bfea",
   "metadata": {},
   "outputs": [
    {
     "data": {
      "text/plain": [
       "[{'name': 'Valentin', 'age': 54},\n",
       " {'name': 'Vadim', 'age': 30},\n",
       " {'name': 'Misha', 'age': 27},\n",
       " {'name': 'Ilya', 'age': 22},\n",
       " {'name': 'Daria', 'age': 19}]"
      ]
     },
     "execution_count": 119,
     "metadata": {},
     "output_type": "execute_result"
    }
   ],
   "source": [
    "usersCopy"
   ]
  },
  {
   "cell_type": "code",
   "execution_count": 121,
   "id": "c7e88146-886b-4063-8919-6e5c76a8d795",
   "metadata": {},
   "outputs": [],
   "source": [
    "usersCopy.sort(reverse=True, key=mySortingKey) # sort mutates an array"
   ]
  },
  {
   "cell_type": "code",
   "execution_count": 123,
   "id": "52f39bfe-1505-4c5b-b8e0-137660a77080",
   "metadata": {},
   "outputs": [
    {
     "data": {
      "text/plain": [
       "[{'name': 'Valentin', 'age': 54},\n",
       " {'name': 'Vadim', 'age': 30},\n",
       " {'name': 'Misha', 'age': 27},\n",
       " {'name': 'Ilya', 'age': 22},\n",
       " {'name': 'Daria', 'age': 19}]"
      ]
     },
     "execution_count": 123,
     "metadata": {},
     "output_type": "execute_result"
    }
   ],
   "source": [
    "usersCopy"
   ]
  },
  {
   "cell_type": "code",
   "execution_count": null,
   "id": "c30982b5-d017-4d71-90dd-db39b708eea3",
   "metadata": {},
   "outputs": [],
   "source": []
  },
  {
   "cell_type": "code",
   "execution_count": null,
   "id": "950aeebe-b999-49f5-81da-d87ab5f61a6c",
   "metadata": {},
   "outputs": [],
   "source": []
  }
 ],
 "metadata": {
  "kernelspec": {
   "display_name": "Python 3 (ipykernel)",
   "language": "python",
   "name": "python3"
  },
  "language_info": {
   "codemirror_mode": {
    "name": "ipython",
    "version": 3
   },
   "file_extension": ".py",
   "mimetype": "text/x-python",
   "name": "python",
   "nbconvert_exporter": "python",
   "pygments_lexer": "ipython3",
   "version": "3.12.4"
  }
 },
 "nbformat": 4,
 "nbformat_minor": 5
}
