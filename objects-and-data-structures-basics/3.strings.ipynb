{
 "cells": [
  {
   "cell_type": "code",
   "execution_count": 21,
   "id": "543010d3-d986-41a8-98d7-14514e51cbab",
   "metadata": {},
   "outputs": [
    {
     "data": {
      "text/plain": [
       "'hello'"
      ]
     },
     "execution_count": 21,
     "metadata": {},
     "output_type": "execute_result"
    }
   ],
   "source": [
    "\"hello\" #double quotes"
   ]
  },
  {
   "cell_type": "code",
   "execution_count": 23,
   "id": "71c17633-8fad-40f3-9e12-28b84b3063a8",
   "metadata": {},
   "outputs": [
    {
     "data": {
      "text/plain": [
       "'world'"
      ]
     },
     "execution_count": 23,
     "metadata": {},
     "output_type": "execute_result"
    }
   ],
   "source": [
    "'world' #single quotes"
   ]
  },
  {
   "cell_type": "code",
   "execution_count": 5,
   "id": "f079590e-4655-4fde-a38f-ffea131a83e7",
   "metadata": {},
   "outputs": [
    {
     "name": "stdout",
     "output_type": "stream",
     "text": [
      "hello\n"
     ]
    }
   ],
   "source": [
    "print(\"hello\")"
   ]
  },
  {
   "cell_type": "code",
   "execution_count": 25,
   "id": "4454f4ab-8a85-4e69-be97-cc4d36aa65a2",
   "metadata": {},
   "outputs": [
    {
     "data": {
      "text/plain": [
       "'two'"
      ]
     },
     "execution_count": 25,
     "metadata": {},
     "output_type": "execute_result"
    }
   ],
   "source": [
    "\"one\" #\"prints\" only one line in a time \n",
    "\"two\""
   ]
  },
  {
   "cell_type": "code",
   "execution_count": 33,
   "id": "e49b1890-f307-479c-955a-d86810aa406a",
   "metadata": {},
   "outputs": [
    {
     "name": "stdout",
     "output_type": "stream",
     "text": [
      "one\n",
      "two\n"
     ]
    }
   ],
   "source": [
    "print(\"one\") #prints multiple lines\n",
    "print(\"two\")"
   ]
  },
  {
   "cell_type": "code",
   "execution_count": 29,
   "id": "15cbf2dd-ab15-4932-a096-b2168c19a7ab",
   "metadata": {},
   "outputs": [
    {
     "name": "stdout",
     "output_type": "stream",
     "text": [
      "hello \n",
      " world\n"
     ]
    }
   ],
   "source": [
    "print(\"hello \\n world\") #new line"
   ]
  },
  {
   "cell_type": "code",
   "execution_count": 31,
   "id": "e119f21f-148a-4db7-b6d3-d032609123e3",
   "metadata": {},
   "outputs": [
    {
     "name": "stdout",
     "output_type": "stream",
     "text": [
      "hello \t world\n"
     ]
    }
   ],
   "source": [
    "print(\"hello \\t world\") #tab"
   ]
  },
  {
   "cell_type": "code",
   "execution_count": 37,
   "id": "55120d10-5e7b-485f-9fcb-9732b2a35a56",
   "metadata": {},
   "outputs": [
    {
     "data": {
      "text/plain": [
       "7"
      ]
     },
     "execution_count": 37,
     "metadata": {},
     "output_type": "execute_result"
    }
   ],
   "source": [
    "len(\"my name\") #string length"
   ]
  },
  {
   "cell_type": "code",
   "execution_count": 2,
   "id": "daa3bbf4-edff-4f34-ab2f-71ea0834677f",
   "metadata": {},
   "outputs": [],
   "source": [
    "myString = \"My name is Ilya\""
   ]
  },
  {
   "cell_type": "code",
   "execution_count": 4,
   "id": "62a0b9bb-cf0a-416d-8a63-6cff9f74fabc",
   "metadata": {},
   "outputs": [
    {
     "data": {
      "text/plain": [
       "'y'"
      ]
     },
     "execution_count": 4,
     "metadata": {},
     "output_type": "execute_result"
    }
   ],
   "source": [
    "myString[-2]"
   ]
  },
  {
   "cell_type": "markdown",
   "id": "3a007066-3bed-4365-9130-34be8963db58",
   "metadata": {},
   "source": [
    "## Slicing"
   ]
  },
  {
   "cell_type": "code",
   "execution_count": 9,
   "id": "7724129d-bc84-4926-a35b-2f7fceb5c414",
   "metadata": {},
   "outputs": [],
   "source": [
    "anotherStr = \"abcdefghijklmnopqrsty\""
   ]
  },
  {
   "cell_type": "code",
   "execution_count": 13,
   "id": "478ef478-5356-43e0-9c38-b3242e4964c4",
   "metadata": {},
   "outputs": [
    {
     "data": {
      "text/plain": [
       "'cdefghijklmnopqrsty'"
      ]
     },
     "execution_count": 13,
     "metadata": {},
     "output_type": "execute_result"
    }
   ],
   "source": [
    "anotherStr[2:] # 2: - means starting from index two and to the end"
   ]
  },
  {
   "cell_type": "code",
   "execution_count": 17,
   "id": "c1b75a8d-f962-44a0-8d29-a682e39fec66",
   "metadata": {},
   "outputs": [
    {
     "data": {
      "text/plain": [
       "'abc'"
      ]
     },
     "execution_count": 17,
     "metadata": {},
     "output_type": "execute_result"
    }
   ],
   "source": [
    "anotherStr[:3] # :3 - means from the start and up to index 3, not including it"
   ]
  },
  {
   "cell_type": "code",
   "execution_count": 23,
   "id": "620bfdb3-2c20-4f5c-a08f-202ec176f7f2",
   "metadata": {},
   "outputs": [
    {
     "data": {
      "text/plain": [
       "'def'"
      ]
     },
     "execution_count": 23,
     "metadata": {},
     "output_type": "execute_result"
    }
   ],
   "source": [
    "anotherStr[3:6] # from:to (not including \"to\")"
   ]
  },
  {
   "cell_type": "code",
   "execution_count": 27,
   "id": "00a19bb2-50e5-4310-ab9e-796adb897d98",
   "metadata": {},
   "outputs": [
    {
     "data": {
      "text/plain": [
       "'adgjmps'"
      ]
     },
     "execution_count": 27,
     "metadata": {},
     "output_type": "execute_result"
    }
   ],
   "source": [
    "anotherStr[::3] # ::n - jumps, it returns elements on indexes 0, 3, 6, 9, etc..."
   ]
  },
  {
   "cell_type": "code",
   "execution_count": 35,
   "id": "c93615e7-1682-45ef-b666-ee830907d5d4",
   "metadata": {},
   "outputs": [
    {
     "data": {
      "text/plain": [
       "'bdf'"
      ]
     },
     "execution_count": 35,
     "metadata": {},
     "output_type": "execute_result"
    }
   ],
   "source": [
    "anotherStr[1:7:2] # start:end:step"
   ]
  },
  {
   "cell_type": "code",
   "execution_count": 37,
   "id": "0998b891-c86a-4924-bee8-cf5fe3c4ae63",
   "metadata": {},
   "outputs": [
    {
     "data": {
      "text/plain": [
       "'ytsrqponmlkjihgfedcba'"
      ]
     },
     "execution_count": 37,
     "metadata": {},
     "output_type": "execute_result"
    }
   ],
   "source": [
    "anotherStr[::-1] # reverse"
   ]
  },
  {
   "cell_type": "code",
   "execution_count": 39,
   "id": "51e69102-0df7-4056-a2da-4ab2ed7ebc59",
   "metadata": {},
   "outputs": [
    {
     "data": {
      "text/plain": [
       "'ysqomkigeca'"
      ]
     },
     "execution_count": 39,
     "metadata": {},
     "output_type": "execute_result"
    }
   ],
   "source": [
    "anotherStr[::-2]"
   ]
  },
  {
   "cell_type": "markdown",
   "id": "e335cd58-6ac6-4b6f-b2fc-2ab24cdef336",
   "metadata": {},
   "source": [
    "## Properties and methods"
   ]
  },
  {
   "cell_type": "markdown",
   "id": "95f43ccd-e7c1-4620-b8bd-8f15de930492",
   "metadata": {},
   "source": [
    "### Immutability"
   ]
  },
  {
   "cell_type": "code",
   "execution_count": 43,
   "id": "7fe38781-f0e2-4540-9873-2ef117ddf615",
   "metadata": {},
   "outputs": [],
   "source": [
    "name = \"Sam\""
   ]
  },
  {
   "cell_type": "code",
   "execution_count": 49,
   "id": "46b4e098-930b-4c6f-85d0-2ae7292a710f",
   "metadata": {},
   "outputs": [],
   "source": [
    "# name[0] = \"P\" # does not work, strings are immutable"
   ]
  },
  {
   "cell_type": "markdown",
   "id": "b78b7637-9cf7-40ad-a031-a98265ffcc9a",
   "metadata": {},
   "source": [
    "### Operations "
   ]
  },
  {
   "cell_type": "code",
   "execution_count": 51,
   "id": "1d38711a-75e8-4add-a32a-50d201aa80ef",
   "metadata": {},
   "outputs": [
    {
     "data": {
      "text/plain": [
       "'ns'"
      ]
     },
     "execution_count": 51,
     "metadata": {},
     "output_type": "execute_result"
    }
   ],
   "source": [
    "\"n\" + \"s\""
   ]
  },
  {
   "cell_type": "code",
   "execution_count": 53,
   "id": "5e9d525e-5b6b-44d9-8788-230ce76fa8f5",
   "metadata": {},
   "outputs": [
    {
     "data": {
      "text/plain": [
       "'nnnnnnnnnn'"
      ]
     },
     "execution_count": 53,
     "metadata": {},
     "output_type": "execute_result"
    }
   ],
   "source": [
    "\"n\" * 10"
   ]
  },
  {
   "cell_type": "code",
   "execution_count": 59,
   "id": "23b6a214-b897-4ef0-bd77-ed012201f802",
   "metadata": {},
   "outputs": [],
   "source": [
    "# \"2\" + 3 number + string will causes and error"
   ]
  },
  {
   "cell_type": "markdown",
   "id": "58106648-2e4e-4eb2-aacf-2a1b0a974aa8",
   "metadata": {},
   "source": [
    "### Methods"
   ]
  },
  {
   "cell_type": "code",
   "execution_count": 68,
   "id": "4a0a97ac-88e2-45da-bed5-00ae0e017ced",
   "metadata": {},
   "outputs": [],
   "source": [
    "str = \"my StrinG for testing\""
   ]
  },
  {
   "cell_type": "code",
   "execution_count": 70,
   "id": "630fa98a-837e-46ff-a766-f5d450ed767c",
   "metadata": {},
   "outputs": [
    {
     "data": {
      "text/plain": [
       "'MY STRING FOR TESTING'"
      ]
     },
     "execution_count": 70,
     "metadata": {},
     "output_type": "execute_result"
    }
   ],
   "source": [
    "str.upper()"
   ]
  },
  {
   "cell_type": "code",
   "execution_count": 72,
   "id": "13dde4e5-3a39-45bd-b3dd-dde4bd2e8a55",
   "metadata": {},
   "outputs": [
    {
     "data": {
      "text/plain": [
       "'my StrinG for testing'"
      ]
     },
     "execution_count": 72,
     "metadata": {},
     "output_type": "execute_result"
    }
   ],
   "source": [
    "str"
   ]
  },
  {
   "cell_type": "code",
   "execution_count": 75,
   "id": "464215c3-6a70-4689-8f11-c91886142411",
   "metadata": {},
   "outputs": [
    {
     "data": {
      "text/plain": [
       "'my string for testing'"
      ]
     },
     "execution_count": 75,
     "metadata": {},
     "output_type": "execute_result"
    }
   ],
   "source": [
    "str.lower()"
   ]
  },
  {
   "cell_type": "code",
   "execution_count": 77,
   "id": "a105d2d8-68ca-4b34-bf93-8aabc5b9109d",
   "metadata": {},
   "outputs": [
    {
     "data": {
      "text/plain": [
       "['my', 'StrinG', 'for', 'testing']"
      ]
     },
     "execution_count": 77,
     "metadata": {},
     "output_type": "execute_result"
    }
   ],
   "source": [
    "str.split()"
   ]
  },
  {
   "cell_type": "code",
   "execution_count": 81,
   "id": "060617bc-7fa0-4296-8cc2-28faef33d3cc",
   "metadata": {},
   "outputs": [
    {
     "data": {
      "text/plain": [
       "['my St', 'inG fo', ' testing']"
      ]
     },
     "execution_count": 81,
     "metadata": {},
     "output_type": "execute_result"
    }
   ],
   "source": [
    "str.split(\"r\")"
   ]
  },
  {
   "cell_type": "markdown",
   "id": "36fd1d02-17e9-42f7-9fd8-cebb202cb584",
   "metadata": {},
   "source": [
    "### Interpolation (two methods) f-string and format"
   ]
  },
  {
   "cell_type": "code",
   "execution_count": 201,
   "id": "9331b20e-9a02-4dc7-b050-61b5af2b0b5c",
   "metadata": {},
   "outputs": [
    {
     "data": {
      "text/plain": [
       "'just string for testing'"
      ]
     },
     "execution_count": 201,
     "metadata": {},
     "output_type": "execute_result"
    }
   ],
   "source": [
    "str1 = \"string\"\n",
    "str2 = \"testing\"\n",
    "f\"just {str1} for {str2}\" # f at the start!!!!"
   ]
  },
  {
   "cell_type": "code",
   "execution_count": 203,
   "id": "9eba62a3-45e6-4934-ad88-7e8a47b1fd18",
   "metadata": {},
   "outputs": [
    {
     "data": {
      "text/plain": [
       "'Just string for testing'"
      ]
     },
     "execution_count": 203,
     "metadata": {},
     "output_type": "execute_result"
    }
   ],
   "source": [
    "\"Just {} for {}\".format(\"string\", \"testing\")"
   ]
  },
  {
   "cell_type": "code",
   "execution_count": 205,
   "id": "4f56dc64-b938-48c2-a959-15acc2f90483",
   "metadata": {},
   "outputs": [
    {
     "data": {
      "text/plain": [
       "'first third second second third first'"
      ]
     },
     "execution_count": 205,
     "metadata": {},
     "output_type": "execute_result"
    }
   ],
   "source": [
    "\"first {2} second {1} third {0}\".format(\"first\", \"second\", \"third\") # control the order"
   ]
  },
  {
   "cell_type": "code",
   "execution_count": 207,
   "id": "76d909c4-2373-41ba-8970-907aaf585872",
   "metadata": {},
   "outputs": [
    {
     "data": {
      "text/plain": [
       "'test | bla bla bla | qq'"
      ]
     },
     "execution_count": 207,
     "metadata": {},
     "output_type": "execute_result"
    }
   ],
   "source": [
    "\"{f} | bla bla bla | {q}\".format(f=\"test\", q = \"qq\") # control the order"
   ]
  },
  {
   "cell_type": "markdown",
   "id": "cc89508d-4f16-449d-bd9f-daa29919ef9b",
   "metadata": {},
   "source": [
    "### Formatting number precision"
   ]
  },
  {
   "cell_type": "code",
   "execution_count": 210,
   "id": "5c66a39a-c093-454d-b4db-cb00b89917b1",
   "metadata": {},
   "outputs": [
    {
     "data": {
      "text/plain": [
       "0.1287001287001287"
      ]
     },
     "execution_count": 210,
     "metadata": {},
     "output_type": "execute_result"
    }
   ],
   "source": [
    "number = 100 / 777\n",
    "number"
   ]
  },
  {
   "cell_type": "code",
   "execution_count": 212,
   "id": "6956e102-5257-4517-a5eb-00da04fdab9d",
   "metadata": {},
   "outputs": [
    {
     "data": {
      "text/plain": [
       "'result: 0.12870'"
      ]
     },
     "execution_count": 212,
     "metadata": {},
     "output_type": "execute_result"
    }
   ],
   "source": [
    "\"result: {n:1.5f}\".format(n = number) # formatting follows {value:width.precision f}"
   ]
  },
  {
   "cell_type": "code",
   "execution_count": null,
   "id": "3ec74cf0-46ac-4adf-8d0a-1dd17828b363",
   "metadata": {},
   "outputs": [],
   "source": []
  }
 ],
 "metadata": {
  "kernelspec": {
   "display_name": "Python 3 (ipykernel)",
   "language": "python",
   "name": "python3"
  },
  "language_info": {
   "codemirror_mode": {
    "name": "ipython",
    "version": 3
   },
   "file_extension": ".py",
   "mimetype": "text/x-python",
   "name": "python",
   "nbconvert_exporter": "python",
   "pygments_lexer": "ipython3",
   "version": "3.12.4"
  }
 },
 "nbformat": 4,
 "nbformat_minor": 5
}
